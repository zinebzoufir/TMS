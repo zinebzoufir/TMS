{
 "cells": [
  {
   "cell_type": "code",
   "execution_count": 1,
   "id": "eea0f02c",
   "metadata": {},
   "outputs": [
    {
     "name": "stdout",
     "output_type": "stream",
     "text": [
      "Requirement already satisfied: openrouteservice in c:\\users\\cami\\anaconda3\\lib\\site-packages (2.3.3)\n",
      "Requirement already satisfied: requests>=2.0 in c:\\users\\cami\\anaconda3\\lib\\site-packages (from openrouteservice) (2.25.1)\n",
      "Requirement already satisfied: urllib3<1.27,>=1.21.1 in c:\\users\\cami\\anaconda3\\lib\\site-packages (from requests>=2.0->openrouteservice) (1.26.4)\n",
      "Requirement already satisfied: certifi>=2017.4.17 in c:\\users\\cami\\anaconda3\\lib\\site-packages (from requests>=2.0->openrouteservice) (2020.12.5)\n",
      "Requirement already satisfied: idna<3,>=2.5 in c:\\users\\cami\\anaconda3\\lib\\site-packages (from requests>=2.0->openrouteservice) (2.10)\n",
      "Requirement already satisfied: chardet<5,>=3.0.2 in c:\\users\\cami\\anaconda3\\lib\\site-packages (from requests>=2.0->openrouteservice) (4.0.0)\n",
      "Note: you may need to restart the kernel to use updated packages.\n"
     ]
    }
   ],
   "source": [
    "pip install openrouteservice"
   ]
  },
  {
   "cell_type": "code",
   "execution_count": 19,
   "id": "a6949b62",
   "metadata": {},
   "outputs": [
    {
     "name": "stdout",
     "output_type": "stream",
     "text": [
      "Collecting folium\n",
      "  Downloading folium-0.13.0-py2.py3-none-any.whl (96 kB)\n",
      "Collecting branca>=0.3.0\n",
      "  Downloading branca-0.5.0-py3-none-any.whl (24 kB)\n",
      "Requirement already satisfied: jinja2>=2.9 in c:\\users\\cami\\anaconda3\\lib\\site-packages (from folium) (2.11.3)\n",
      "Requirement already satisfied: requests in c:\\users\\cami\\anaconda3\\lib\\site-packages (from folium) (2.25.1)\n",
      "Requirement already satisfied: numpy in c:\\users\\cami\\anaconda3\\lib\\site-packages (from folium) (1.20.1)\n",
      "Requirement already satisfied: MarkupSafe>=0.23 in c:\\users\\cami\\anaconda3\\lib\\site-packages (from jinja2>=2.9->folium) (1.1.1)\n",
      "Requirement already satisfied: idna<3,>=2.5 in c:\\users\\cami\\anaconda3\\lib\\site-packages (from requests->folium) (2.10)\n",
      "Requirement already satisfied: chardet<5,>=3.0.2 in c:\\users\\cami\\anaconda3\\lib\\site-packages (from requests->folium) (4.0.0)\n",
      "Requirement already satisfied: certifi>=2017.4.17 in c:\\users\\cami\\anaconda3\\lib\\site-packages (from requests->folium) (2020.12.5)\n",
      "Requirement already satisfied: urllib3<1.27,>=1.21.1 in c:\\users\\cami\\anaconda3\\lib\\site-packages (from requests->folium) (1.26.4)\n",
      "Installing collected packages: branca, folium\n",
      "Successfully installed branca-0.5.0 folium-0.13.0\n",
      "Note: you may need to restart the kernel to use updated packages.\n"
     ]
    }
   ],
   "source": [
    "pip install folium"
   ]
  },
  {
   "cell_type": "code",
   "execution_count": 2,
   "id": "86f2745a",
   "metadata": {},
   "outputs": [],
   "source": [
    "import pandas as pd\n",
    "import openrouteservice as ors\n",
    "import numpy as np\n",
    "import folium "
   ]
  },
  {
   "cell_type": "code",
   "execution_count": 5,
   "id": "5202d6a9",
   "metadata": {},
   "outputs": [],
   "source": [
    "def Matrice_des_distances(path):\n",
    "    file=pd.read_csv(path)\n",
    "    f=file.to_numpy()\n",
    "    client = ors.Client(key='5b3ce3597851110001cf624803bbfd9756c04be9aed554b68d5a1fd2')\n",
    "    d=[]\n",
    "    for i in range (len(f)):\n",
    "        d+=[[f[i][2],f[i][3]]]\n",
    "    x=[]\n",
    "    for s in d:\n",
    "        tuple(s)\n",
    "        x.append(tuple(s))\n",
    "    myMATRIX = [x] + [[e] + [0] * (len(x)-1) for e in x[0:]]\n",
    "    lst=myMATRIX\n",
    "    for i in range (1,len(lst)):\n",
    "        lst[i].append(0)\n",
    "    lst[0].insert(0,0)\n",
    "    List=lst\n",
    "    for i in range (1,len(lst[0])):\n",
    "        for j in range (1,len(lst)):       \n",
    "            List[i][j]=(client.directions(tuple([List[i][0],List[0][j]]))).get(\"routes\")[0].get(\"summary\").get(\"distance\")\n",
    "    return List"
   ]
  },
  {
   "cell_type": "code",
   "execution_count": 6,
   "id": "9ed5f46e",
   "metadata": {},
   "outputs": [],
   "source": [
    "L=Matrice_des_distances(\"C:\\\\Users\\\\WIAM\\\\OneDrive\\\\Documents\\\\ors.csv\")"
   ]
  },
  {
   "cell_type": "code",
   "execution_count": 7,
   "id": "aebb852c",
   "metadata": {},
   "outputs": [],
   "source": [
    "def generer_matrice_pure(List):\n",
    "    T=List[1:]\n",
    "    for i in range(len(T)):\n",
    "        T[i].pop(0)\n",
    "    return(T)"
   ]
  },
  {
   "cell_type": "code",
   "execution_count": 8,
   "id": "08fa9ccc",
   "metadata": {},
   "outputs": [],
   "source": [
    "MP=generer_matrice_pure(L)"
   ]
  },
  {
   "cell_type": "code",
   "execution_count": 9,
   "id": "29caccb6",
   "metadata": {},
   "outputs": [
    {
     "data": {
      "text/plain": [
       "array([[0, 97237.5, 211463.6, 252463.6, 335058.2],\n",
       "       [97229.4, 0, 309068.1, 349480.7, 242384.7],\n",
       "       [203901.7, 302456.2, 0, 414979.9, 540276.9],\n",
       "       [254032.6, 349453.8, 422936.4, 0, 587274.5],\n",
       "       [333984.1, 239641.4, 545822.8, 586235.4, 0]], dtype=object)"
      ]
     },
     "execution_count": 9,
     "metadata": {},
     "output_type": "execute_result"
    }
   ],
   "source": [
    "n=np.array(MP)\n",
    "n[n==None]=0\n",
    "n"
   ]
  },
  {
   "cell_type": "code",
   "execution_count": 10,
   "id": "fa858821",
   "metadata": {},
   "outputs": [
    {
     "ename": "SyntaxError",
     "evalue": "unexpected EOF while parsing (<ipython-input-10-8c4ced800159>, line 2)",
     "output_type": "error",
     "traceback": [
      "\u001b[1;36m  File \u001b[1;32m\"<ipython-input-10-8c4ced800159>\"\u001b[1;36m, line \u001b[1;32m2\u001b[0m\n\u001b[1;33m    \u001b[0m\n\u001b[1;37m    ^\u001b[0m\n\u001b[1;31mSyntaxError\u001b[0m\u001b[1;31m:\u001b[0m unexpected EOF while parsing\n"
     ]
    }
   ],
   "source": [
    "def heuristiqueDeBalayage(csv):\n",
    "    "
   ]
  },
  {
   "cell_type": "code",
   "execution_count": 11,
   "id": "06c303f1",
   "metadata": {},
   "outputs": [],
   "source": [
    "def MatrixOfSaving(M):\n",
    "    n = len(M)  # NBR DE LIGNES QUI EST EGAL AU NBR DE COLONNES\n",
    "    S = [[0] * n for i in range(n)]\n",
    "    for i in range(n):\n",
    "        for j in range(n):\n",
    "            if i != j:\n",
    "                S[i][j] = M[i][0] + M[0][j] - M[i][j]\n",
    "    return(S)"
   ]
  },
  {
   "cell_type": "code",
   "execution_count": 12,
   "id": "0e6fe505",
   "metadata": {},
   "outputs": [
    {
     "data": {
      "text/plain": [
       "[[0, 0.0, 0.0, 0.0, 0.0],\n",
       " [0.0, 0, -375.0999999999767, 212.29999999998836, 189902.89999999997],\n",
       " [0.0, -1317.0, 0, 41385.40000000002, -1317.0],\n",
       " [0.0, 1816.2999999999884, 42559.79999999999, 0, 1816.3000000000466],\n",
       " [0.0, 191580.19999999998, -375.10000000009313, 212.29999999993015, 0]]"
      ]
     },
     "execution_count": 12,
     "metadata": {},
     "output_type": "execute_result"
    }
   ],
   "source": [
    "s=MatrixOfSaving(n)\n",
    "s"
   ]
  },
  {
   "cell_type": "code",
   "execution_count": 13,
   "id": "7b0097f0",
   "metadata": {},
   "outputs": [],
   "source": [
    "def SortedIndexOfSavings(M):\n",
    "    global inter\n",
    "    IndexesOfSortedSavings=[]\n",
    "    n = len(M)\n",
    "    for i in range(n):\n",
    "        for j in range(n):\n",
    "            if M[i][j] == 0:\n",
    "                continue\n",
    "            inter = {c: (x, y) for y, r in enumerate(M, 1) for x, c in enumerate(r, 1) if c != 0}\n",
    "    for k, v in sorted(inter.items(), key=lambda x: x[0],reverse=True):\n",
    "            IndexesOfSortedSavings.append(v)\n",
    "    return(IndexesOfSortedSavings)"
   ]
  },
  {
   "cell_type": "code",
   "execution_count": 14,
   "id": "ca7a720b",
   "metadata": {},
   "outputs": [
    {
     "data": {
      "text/plain": [
       "[(2, 5),\n",
       " (5, 2),\n",
       " (3, 4),\n",
       " (4, 3),\n",
       " (5, 4),\n",
       " (2, 4),\n",
       " (4, 2),\n",
       " (4, 5),\n",
       " (3, 2),\n",
       " (3, 5),\n",
       " (5, 3)]"
      ]
     },
     "execution_count": 14,
     "metadata": {},
     "output_type": "execute_result"
    }
   ],
   "source": [
    "sif=SortedIndexOfSavings(s)\n",
    "sif"
   ]
  },
  {
   "cell_type": "code",
   "execution_count": 15,
   "id": "57416cab",
   "metadata": {},
   "outputs": [
    {
     "data": {
      "text/plain": [
       "[(2, 5),\n",
       " (5, 2),\n",
       " (3, 4),\n",
       " (4, 3),\n",
       " (5, 4),\n",
       " (2, 4),\n",
       " (4, 2),\n",
       " (4, 5),\n",
       " (3, 2),\n",
       " (3, 5),\n",
       " (5, 3)]"
      ]
     },
     "execution_count": 15,
     "metadata": {},
     "output_type": "execute_result"
    }
   ],
   "source": [
    "sif"
   ]
  },
  {
   "cell_type": "code",
   "execution_count": 16,
   "id": "3e07ca04",
   "metadata": {},
   "outputs": [],
   "source": [
    "def Tour(L):\n",
    "    Route = [1, 1]\n",
    "    Route.insert(1, L[0][0])\n",
    "    Route.insert(-1, L[0][1])\n",
    "\n",
    "    for l in range(1, len(L)):\n",
    "        s = L[l]\n",
    "        if (s[0] in Route) ^ (s[1] in Route):\n",
    "            a = s[0] if s[0] in Route else s[1]\n",
    "            b = s[0] if not s[0] in Route else s[1]\n",
    "            if a == Route[1]:\n",
    "                Route.insert(1, b)\n",
    "            elif a == Route[-2]:\n",
    "                Route.insert(-1, b)\n",
    "    return(Route)"
   ]
  },
  {
   "cell_type": "code",
   "execution_count": 17,
   "id": "603f8b31",
   "metadata": {},
   "outputs": [
    {
     "name": "stdout",
     "output_type": "stream",
     "text": [
      "[1, 3, 2, 5, 4, 1]\n"
     ]
    }
   ],
   "source": [
    "print(Tour(sif))"
   ]
  },
  {
   "cell_type": "code",
   "execution_count": 18,
   "id": "515adb3f",
   "metadata": {},
   "outputs": [],
   "source": [
    "o=Tour(sif)"
   ]
  },
  {
   "cell_type": "code",
   "execution_count": 21,
   "id": "e8d6d1ab",
   "metadata": {},
   "outputs": [],
   "source": [
    "def visualiser_sur_map(List):\n",
    "    f=pd.read_csv(\"C:\\\\Users\\\\WIAM\\\\OneDrive\\\\Documents\\\\ors.csv\").to_numpy()\n",
    "    d=[]\n",
    "    for i in range (len(f)):\n",
    "        d+=[[f[i][1],f[i][2],f[i][3]]]\n",
    "        lst=[]\n",
    "\n",
    "    for l in List :\n",
    "        for i in range(len(d)):\n",
    "            if l==int(d[i][0]):\n",
    "                lst+=[tuple([d[i][2],d[i][1]])]\n",
    "    m = folium.Map(location=[34.00106,-6.78028],zoom_start=5)\n",
    "\n",
    "    loc=lst\n",
    "\n",
    "    folium.PolyLine(loc,\n",
    "                color='blue',\n",
    "                weight=2,\n",
    "                opacity=0.8).add_to(m)\n",
    "    return m"
   ]
  },
  {
   "cell_type": "code",
   "execution_count": 22,
   "id": "a35f3363",
   "metadata": {},
   "outputs": [
    {
     "data": {
      "text/html": [
       "<div style=\"width:100%;\"><div style=\"position:relative;width:100%;height:0;padding-bottom:60%;\"><span style=\"color:#565656\">Make this Notebook Trusted to load map: File -> Trust Notebook</span><iframe srcdoc=\"&lt;!DOCTYPE html&gt;\n",
       "&lt;head&gt;    \n",
       "    &lt;meta http-equiv=&quot;content-type&quot; content=&quot;text/html; charset=UTF-8&quot; /&gt;\n",
       "    \n",
       "        &lt;script&gt;\n",
       "            L_NO_TOUCH = false;\n",
       "            L_DISABLE_3D = false;\n",
       "        &lt;/script&gt;\n",
       "    \n",
       "    &lt;style&gt;html, body {width: 100%;height: 100%;margin: 0;padding: 0;}&lt;/style&gt;\n",
       "    &lt;style&gt;#map {position:absolute;top:0;bottom:0;right:0;left:0;}&lt;/style&gt;\n",
       "    &lt;script src=&quot;https://cdn.jsdelivr.net/npm/leaflet@1.6.0/dist/leaflet.js&quot;&gt;&lt;/script&gt;\n",
       "    &lt;script src=&quot;https://code.jquery.com/jquery-1.12.4.min.js&quot;&gt;&lt;/script&gt;\n",
       "    &lt;script src=&quot;https://maxcdn.bootstrapcdn.com/bootstrap/3.2.0/js/bootstrap.min.js&quot;&gt;&lt;/script&gt;\n",
       "    &lt;script src=&quot;https://cdnjs.cloudflare.com/ajax/libs/Leaflet.awesome-markers/2.0.2/leaflet.awesome-markers.js&quot;&gt;&lt;/script&gt;\n",
       "    &lt;link rel=&quot;stylesheet&quot; href=&quot;https://cdn.jsdelivr.net/npm/leaflet@1.6.0/dist/leaflet.css&quot;/&gt;\n",
       "    &lt;link rel=&quot;stylesheet&quot; href=&quot;https://maxcdn.bootstrapcdn.com/bootstrap/3.2.0/css/bootstrap.min.css&quot;/&gt;\n",
       "    &lt;link rel=&quot;stylesheet&quot; href=&quot;https://maxcdn.bootstrapcdn.com/bootstrap/3.2.0/css/bootstrap-theme.min.css&quot;/&gt;\n",
       "    &lt;link rel=&quot;stylesheet&quot; href=&quot;https://maxcdn.bootstrapcdn.com/font-awesome/4.6.3/css/font-awesome.min.css&quot;/&gt;\n",
       "    &lt;link rel=&quot;stylesheet&quot; href=&quot;https://cdnjs.cloudflare.com/ajax/libs/Leaflet.awesome-markers/2.0.2/leaflet.awesome-markers.css&quot;/&gt;\n",
       "    &lt;link rel=&quot;stylesheet&quot; href=&quot;https://cdn.jsdelivr.net/gh/python-visualization/folium/folium/templates/leaflet.awesome.rotate.min.css&quot;/&gt;\n",
       "    \n",
       "            &lt;meta name=&quot;viewport&quot; content=&quot;width=device-width,\n",
       "                initial-scale=1.0, maximum-scale=1.0, user-scalable=no&quot; /&gt;\n",
       "            &lt;style&gt;\n",
       "                #map_1bc7c81ce1c211a153bc0de4c78fd342 {\n",
       "                    position: relative;\n",
       "                    width: 100.0%;\n",
       "                    height: 100.0%;\n",
       "                    left: 0.0%;\n",
       "                    top: 0.0%;\n",
       "                }\n",
       "            &lt;/style&gt;\n",
       "        \n",
       "&lt;/head&gt;\n",
       "&lt;body&gt;    \n",
       "    \n",
       "            &lt;div class=&quot;folium-map&quot; id=&quot;map_1bc7c81ce1c211a153bc0de4c78fd342&quot; &gt;&lt;/div&gt;\n",
       "        \n",
       "&lt;/body&gt;\n",
       "&lt;script&gt;    \n",
       "    \n",
       "            var map_1bc7c81ce1c211a153bc0de4c78fd342 = L.map(\n",
       "                &quot;map_1bc7c81ce1c211a153bc0de4c78fd342&quot;,\n",
       "                {\n",
       "                    center: [34.00106, -6.78028],\n",
       "                    crs: L.CRS.EPSG3857,\n",
       "                    zoom: 5,\n",
       "                    zoomControl: true,\n",
       "                    preferCanvas: false,\n",
       "                }\n",
       "            );\n",
       "\n",
       "            \n",
       "\n",
       "        \n",
       "    \n",
       "            var tile_layer_813461c7f921ae9b088e4dc1f8662f58 = L.tileLayer(\n",
       "                &quot;https://{s}.tile.openstreetmap.org/{z}/{x}/{y}.png&quot;,\n",
       "                {&quot;attribution&quot;: &quot;Data by \\u0026copy; \\u003ca href=\\&quot;http://openstreetmap.org\\&quot;\\u003eOpenStreetMap\\u003c/a\\u003e, under \\u003ca href=\\&quot;http://www.openstreetmap.org/copyright\\&quot;\\u003eODbL\\u003c/a\\u003e.&quot;, &quot;detectRetina&quot;: false, &quot;maxNativeZoom&quot;: 18, &quot;maxZoom&quot;: 18, &quot;minZoom&quot;: 0, &quot;noWrap&quot;: false, &quot;opacity&quot;: 1, &quot;subdomains&quot;: &quot;abc&quot;, &quot;tms&quot;: false}\n",
       "            ).addTo(map_1bc7c81ce1c211a153bc0de4c78fd342);\n",
       "        \n",
       "    \n",
       "            var poly_line_c545a594def469077f87a93832b40a9d = L.polyline(\n",
       "                [[34.00106, -6.78028], [33.984911, -4.941731], [33.531736, -7.543818], [31.622189, -7.991634], [35.76727, -5.79975], [34.00106, -6.78028]],\n",
       "                {&quot;bubblingMouseEvents&quot;: true, &quot;color&quot;: &quot;blue&quot;, &quot;dashArray&quot;: null, &quot;dashOffset&quot;: null, &quot;fill&quot;: false, &quot;fillColor&quot;: &quot;blue&quot;, &quot;fillOpacity&quot;: 0.2, &quot;fillRule&quot;: &quot;evenodd&quot;, &quot;lineCap&quot;: &quot;round&quot;, &quot;lineJoin&quot;: &quot;round&quot;, &quot;noClip&quot;: false, &quot;opacity&quot;: 0.8, &quot;smoothFactor&quot;: 1.0, &quot;stroke&quot;: true, &quot;weight&quot;: 2}\n",
       "            ).addTo(map_1bc7c81ce1c211a153bc0de4c78fd342);\n",
       "        \n",
       "&lt;/script&gt;\" style=\"position:absolute;width:100%;height:100%;left:0;top:0;border:none !important;\" allowfullscreen webkitallowfullscreen mozallowfullscreen></iframe></div></div>"
      ],
      "text/plain": [
       "<folium.folium.Map at 0x223a6fde7f0>"
      ]
     },
     "execution_count": 22,
     "metadata": {},
     "output_type": "execute_result"
    }
   ],
   "source": [
    "visualiser_sur_map(o)"
   ]
  },
  {
   "cell_type": "code",
   "execution_count": null,
   "id": "521fb753",
   "metadata": {},
   "outputs": [],
   "source": []
  }
 ],
 "metadata": {
  "kernelspec": {
   "display_name": "Python 3",
   "language": "python",
   "name": "python3"
  },
  "language_info": {
   "codemirror_mode": {
    "name": "ipython",
    "version": 3
   },
   "file_extension": ".py",
   "mimetype": "text/x-python",
   "name": "python",
   "nbconvert_exporter": "python",
   "pygments_lexer": "ipython3",
   "version": "3.8.8"
  }
 },
 "nbformat": 4,
 "nbformat_minor": 5
}
